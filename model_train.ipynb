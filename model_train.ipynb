{
 "cells": [
  {
   "cell_type": "code",
   "execution_count": 2,
   "id": "b78b618a",
   "metadata": {},
   "outputs": [],
   "source": [
    "import pandas as pd                                                   # to load csv file and data manipulation \n",
    "from sklearn.model_selection import train_test_split                  # to split data for training and testiing\n",
    "from sklearn.linear_model import LogisticRegression                   # model for classificiation\n",
    "from sklearn.metrics import accuracy_score, classification_report     # performance metrices for classification, logistic regression\n",
    "from sklearn.preprocessing import StandardScaler                      # helps to scale all the feature value to similar range\n",
    "from sklearn.model_selection import GridSearchCV                      # helps in training with different hyperparameter, hyperparameter tuning\n",
    "import joblib\n"
   ]
  },
  {
   "cell_type": "code",
   "execution_count": 3,
   "id": "1e8e3489",
   "metadata": {},
   "outputs": [
    {
     "name": "stderr",
     "output_type": "stream",
     "text": [
      "C:\\Users\\LENOVO\\AppData\\Local\\Temp\\ipykernel_22976\\4033588043.py:4: FutureWarning: A value is trying to be set on a copy of a DataFrame or Series through chained assignment using an inplace method.\n",
      "The behavior will change in pandas 3.0. This inplace method will never work because the intermediate object on which we are setting values always behaves as a copy.\n",
      "\n",
      "For example, when doing 'df[col].method(value, inplace=True)', try using 'df.method({col: value}, inplace=True)' or df[col] = df[col].method(value) instead, to perform the operation inplace on the original object.\n",
      "\n",
      "\n",
      "  df['TotalCharges'].fillna(df['TotalCharges'].median(), inplace=True) #handle missing value directly in data\n"
     ]
    }
   ],
   "source": [
    "df = pd.read_csv('Telco-Customer-Churn.csv') #load customer-churn dataset\n",
    "df.drop('customerID', axis=1, inplace=True) #drop customerID, customerID not useful in prediction\n",
    "df['TotalCharges'] = pd.to_numeric(df['TotalCharges'], errors='coerce') #convert object type to int, coerce changes empty spaces to NaN\n",
    "df['TotalCharges'].fillna(df['TotalCharges'].median(), inplace=True) #handle missing value directly in data\n",
    "df['Churn'] = df['Churn'].map({'Yes':1,'No':0})\n",
    "category_cols = df.select_dtypes(include=['object']).columns.to_list() #get column with categories\n",
    "df = pd.get_dummies(df, columns=category_cols, drop_first=True) #one-hot encoding, convert categorical data to numerical format\n"
   ]
  },
  {
   "cell_type": "code",
   "execution_count": 4,
   "id": "6e407a6a",
   "metadata": {},
   "outputs": [],
   "source": [
    "X = df.drop('Churn', axis=1) #all features except churn, training data\n",
    "y = df['Churn'] #churn feature, target value\n",
    "\n",
    "X_train, X_test, y_train, y_test = train_test_split(X, y, test_size=0.2, random_state=42) #80% train, 20% test\n",
    "scaler = StandardScaler() #scales the datavalue to similar scale\n",
    "X_train = scaler.fit_transform(X_train)\n",
    "X_test = scaler.transform(X_test)\n"
   ]
  },
  {
   "cell_type": "code",
   "execution_count": 5,
   "id": "10147e7a",
   "metadata": {},
   "outputs": [
    {
     "name": "stdout",
     "output_type": "stream",
     "text": [
      "Accuracy:  0.8197303051809794\n",
      "\n",
      "Classification Report:\n",
      "               precision    recall  f1-score   support\n",
      "\n",
      "           0       0.86      0.90      0.88      1036\n",
      "           1       0.68      0.60      0.64       373\n",
      "\n",
      "    accuracy                           0.82      1409\n",
      "   macro avg       0.77      0.75      0.76      1409\n",
      "weighted avg       0.81      0.82      0.82      1409\n",
      "\n"
     ]
    }
   ],
   "source": [
    "# logistic regression\n",
    "\n",
    "model = LogisticRegression(max_iter=1000) #choosing the model\n",
    "model.fit(X_train, y_train) # train the model\n",
    "\n",
    "y_pred = model.predict(X_test) # predict the target value using moddel parameter\n",
    "\n",
    "print(\"Accuracy: \", accuracy_score(y_test, y_pred))\n",
    "print(\"\\nClassification Report:\\n\", classification_report(y_test, y_pred)) #recall, precison, f1-score, support\n"
   ]
  },
  {
   "cell_type": "code",
   "execution_count": 6,
   "id": "5c2b550f",
   "metadata": {},
   "outputs": [
    {
     "name": "stdout",
     "output_type": "stream",
     "text": [
      "Fitting 5 folds for each of 8 candidates, totalling 40 fits\n",
      "Best Parameters: {'C': 10, 'penalty': 'l2', 'solver': 'liblinear'}\n",
      "Best F1 Score: 0.5928882039527489\n"
     ]
    }
   ],
   "source": [
    "param_grid = {              # different hyperparameter to train model on\n",
    "    'C':[0.01, 0.1, 1, 10], # c=1/lamda, lamda is regularization strength, greater c, less lambda, more flexible\n",
    "    'penalty':['l1','l2'], # penalties to big or unnecessary model coefficients, l1=lasso, l2=ridge\n",
    "    'solver':['liblinear'], #finds best weights\n",
    "}\n",
    "\n",
    "grid_search = GridSearchCV(\n",
    "    estimator=LogisticRegression(max_iter=1000), #model to use with how many iteration model may use for optimized weights\n",
    "    param_grid = param_grid,  \n",
    "    cv = 5,                                      # cross-validation\n",
    "    scoring = 'f1',\n",
    "    verbose=1,\n",
    "    n_jobs=-1                                    # how many cpu cores to use, -1 means all\n",
    ")\n",
    "\n",
    "grid_search.fit(X_train, y_train)\n",
    "print(\"Best Parameters:\", grid_search.best_params_)\n",
    "print(\"Best F1 Score:\", grid_search.best_score_)\n"
   ]
  },
  {
   "cell_type": "code",
   "execution_count": 8,
   "id": "6b6a816a",
   "metadata": {},
   "outputs": [
    {
     "name": "stdout",
     "output_type": "stream",
     "text": [
      "Accuracy: 0.8190205819730305\n",
      "              precision    recall  f1-score   support\n",
      "\n",
      "           0       0.86      0.90      0.88      1036\n",
      "           1       0.68      0.59      0.63       373\n",
      "\n",
      "    accuracy                           0.82      1409\n",
      "   macro avg       0.77      0.75      0.76      1409\n",
      "weighted avg       0.81      0.82      0.81      1409\n",
      "\n",
      "<class 'pandas.core.frame.DataFrame'>\n",
      "RangeIndex: 7043 entries, 0 to 7042\n",
      "Data columns (total 31 columns):\n",
      " #   Column                                 Non-Null Count  Dtype  \n",
      "---  ------                                 --------------  -----  \n",
      " 0   SeniorCitizen                          7043 non-null   int64  \n",
      " 1   tenure                                 7043 non-null   int64  \n",
      " 2   MonthlyCharges                         7043 non-null   float64\n",
      " 3   TotalCharges                           7043 non-null   float64\n",
      " 4   Churn                                  7043 non-null   int64  \n",
      " 5   gender_Male                            7043 non-null   bool   \n",
      " 6   Partner_Yes                            7043 non-null   bool   \n",
      " 7   Dependents_Yes                         7043 non-null   bool   \n",
      " 8   PhoneService_Yes                       7043 non-null   bool   \n",
      " 9   MultipleLines_No phone service         7043 non-null   bool   \n",
      " 10  MultipleLines_Yes                      7043 non-null   bool   \n",
      " 11  InternetService_Fiber optic            7043 non-null   bool   \n",
      " 12  InternetService_No                     7043 non-null   bool   \n",
      " 13  OnlineSecurity_No internet service     7043 non-null   bool   \n",
      " 14  OnlineSecurity_Yes                     7043 non-null   bool   \n",
      " 15  OnlineBackup_No internet service       7043 non-null   bool   \n",
      " 16  OnlineBackup_Yes                       7043 non-null   bool   \n",
      " 17  DeviceProtection_No internet service   7043 non-null   bool   \n",
      " 18  DeviceProtection_Yes                   7043 non-null   bool   \n",
      " 19  TechSupport_No internet service        7043 non-null   bool   \n",
      " 20  TechSupport_Yes                        7043 non-null   bool   \n",
      " 21  StreamingTV_No internet service        7043 non-null   bool   \n",
      " 22  StreamingTV_Yes                        7043 non-null   bool   \n",
      " 23  StreamingMovies_No internet service    7043 non-null   bool   \n",
      " 24  StreamingMovies_Yes                    7043 non-null   bool   \n",
      " 25  Contract_One year                      7043 non-null   bool   \n",
      " 26  Contract_Two year                      7043 non-null   bool   \n",
      " 27  PaperlessBilling_Yes                   7043 non-null   bool   \n",
      " 28  PaymentMethod_Credit card (automatic)  7043 non-null   bool   \n",
      " 29  PaymentMethod_Electronic check         7043 non-null   bool   \n",
      " 30  PaymentMethod_Mailed check             7043 non-null   bool   \n",
      "dtypes: bool(26), float64(2), int64(3)\n",
      "memory usage: 454.1 KB\n",
      "None\n",
      "['SeniorCitizen', 'tenure', 'MonthlyCharges', 'TotalCharges', 'gender_Male', 'Partner_Yes', 'Dependents_Yes', 'PhoneService_Yes', 'MultipleLines_No phone service', 'MultipleLines_Yes', 'InternetService_Fiber optic', 'InternetService_No', 'OnlineSecurity_No internet service', 'OnlineSecurity_Yes', 'OnlineBackup_No internet service', 'OnlineBackup_Yes', 'DeviceProtection_No internet service', 'DeviceProtection_Yes', 'TechSupport_No internet service', 'TechSupport_Yes', 'StreamingTV_No internet service', 'StreamingTV_Yes', 'StreamingMovies_No internet service', 'StreamingMovies_Yes', 'Contract_One year', 'Contract_Two year', 'PaperlessBilling_Yes', 'PaymentMethod_Credit card (automatic)', 'PaymentMethod_Electronic check', 'PaymentMethod_Mailed check']\n"
     ]
    }
   ],
   "source": [
    "best_model = grid_search.best_estimator_\n",
    "y_pred = best_model.predict(X_test)\n",
    "print(\"Accuracy:\", accuracy_score(y_test, y_pred))\n",
    "print(classification_report(y_test, y_pred))\n",
    "print(df.info())\n",
    "print(X.columns.to_list())"
   ]
  },
  {
   "cell_type": "code",
   "execution_count": 8,
   "id": "6754e9bb",
   "metadata": {},
   "outputs": [
    {
     "data": {
      "text/plain": [
       "['scaler.pkl']"
      ]
     },
     "execution_count": 8,
     "metadata": {},
     "output_type": "execute_result"
    }
   ],
   "source": [
    "joblib.dump(best_model, 'churn_model.pkl')\n",
    "joblib.dump(scaler, 'scaler.pkl')\n",
    "\n"
   ]
  }
 ],
 "metadata": {
  "kernelspec": {
   "display_name": "venv",
   "language": "python",
   "name": "python3"
  },
  "language_info": {
   "codemirror_mode": {
    "name": "ipython",
    "version": 3
   },
   "file_extension": ".py",
   "mimetype": "text/x-python",
   "name": "python",
   "nbconvert_exporter": "python",
   "pygments_lexer": "ipython3",
   "version": "3.12.4"
  }
 },
 "nbformat": 4,
 "nbformat_minor": 5
}
